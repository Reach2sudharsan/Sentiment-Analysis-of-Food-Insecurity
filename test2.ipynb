{
 "cells": [
  {
   "cell_type": "code",
   "execution_count": 4,
   "metadata": {},
   "outputs": [],
   "source": [
    "import requests\n",
    "from bs4 import BeautifulSoup\n",
    "\n",
    "URL = \"https://towardsdatascience.com/how-to-scrape-tweets-from-twitter-59287e20f0f1\"\n",
    "page = requests.get(URL)\n",
    "\n",
    "soup = BeautifulSoup(page.content, \"html.parser\")\n",
    "# soup"
   ]
  },
  {
   "cell_type": "code",
   "execution_count": 5,
   "metadata": {},
   "outputs": [],
   "source": [
    "# import tweepy\n",
    "import tweepy as tw\n",
    "# your Twitter API key and API secret\n",
    "my_api_key = \"YLevgj09NJ7EY4EVwjlUwwA3g\"\n",
    "my_api_secret = \"keGbAP1gT7dxbAYcMzQDbGZfhnU2d0BbJn4dbhgRGtspUxKBUZ\"\n",
    "# authenticate\n",
    "auth = tw.OAuthHandler(my_api_key, my_api_secret)\n",
    "api = tw.API(auth, wait_on_rate_limit=True)"
   ]
  },
  {
   "cell_type": "code",
   "execution_count": 70,
   "metadata": {},
   "outputs": [],
   "source": [
    "search_query = \"#fooddesert\" #GMOs"
   ]
  },
  {
   "cell_type": "code",
   "execution_count": 73,
   "metadata": {},
   "outputs": [
    {
     "name": "stderr",
     "output_type": "stream",
     "text": [
      "Unexpected parameter: since\n",
      "Unexpected parameter: since\n",
      "Unexpected parameter: since\n",
      "Unexpected parameter: since\n",
      "Unexpected parameter: since\n",
      "Unexpected parameter: since\n",
      "Unexpected parameter: since\n",
      "Unexpected parameter: since\n",
      "Unexpected parameter: since\n",
      "Unexpected parameter: since\n",
      "Unexpected parameter: since\n",
      "Unexpected parameter: since\n",
      "Unexpected parameter: since\n",
      "Unexpected parameter: since\n",
      "Unexpected parameter: since\n",
      "Unexpected parameter: since\n"
     ]
    },
    {
     "name": "stdout",
     "output_type": "stream",
     "text": [
      "Total Tweets fetched: 219\n"
     ]
    }
   ],
   "source": [
    "# get tweets from the API\n",
    "tweets = tw.Cursor(api.search_tweets,\n",
    "              q=search_query,\n",
    "              lang=\"en\",\n",
    "              since=\"2018-09-16\").items(400)\n",
    "\n",
    "# store the API responses in a list\n",
    "tweets_copy = []\n",
    "for tweet in tweets:\n",
    "    tweets_copy.append(tweet)\n",
    "    \n",
    "print(\"Total Tweets fetched:\", len(tweets_copy))"
   ]
  },
  {
   "cell_type": "code",
   "execution_count": 74,
   "metadata": {},
   "outputs": [
    {
     "name": "stderr",
     "output_type": "stream",
     "text": [
      "/var/folders/4m/jxk5_ydd4zl7c_t8ktc70vnw0000gn/T/ipykernel_86457/1880315750.py:15: FutureWarning: The frame.append method is deprecated and will be removed from pandas in a future version. Use pandas.concat instead.\n",
      "  tweets_df = tweets_df.append(pd.DataFrame({'user_name': tweet.user.name,\n"
     ]
    }
   ],
   "source": [
    "import pandas as pd\n",
    "\n",
    "# intialize the dataframe\n",
    "tweets_df = pd.DataFrame()\n",
    "\n",
    "# populate the dataframe\n",
    "for tweet in tweets_copy:\n",
    "    hashtags = []\n",
    "    try:\n",
    "        for hashtag in tweet.entities[\"hashtags\"]:\n",
    "            hashtags.append(hashtag[\"text\"])\n",
    "        text = api.get_status(id=tweet.id, tweet_mode='extended').full_text\n",
    "    except:\n",
    "        pass\n",
    "    tweets_df = tweets_df.append(pd.DataFrame({'user_name': tweet.user.name, \n",
    "                                               'user_location': tweet.user.location,\\\n",
    "                                               'user_description': tweet.user.description,\n",
    "                                               'user_verified': tweet.user.verified,\n",
    "                                               'date': tweet.created_at,\n",
    "                                               'text': text, \n",
    "                                               'hashtags': [hashtags if hashtags else None],\n",
    "                                               'source': tweet.source}))\n",
    "    tweets_df = tweets_df.reset_index(drop=True)"
   ]
  },
  {
   "cell_type": "code",
   "execution_count": 75,
   "metadata": {},
   "outputs": [
    {
     "data": {
      "text/html": [
       "<div>\n",
       "<style scoped>\n",
       "    .dataframe tbody tr th:only-of-type {\n",
       "        vertical-align: middle;\n",
       "    }\n",
       "\n",
       "    .dataframe tbody tr th {\n",
       "        vertical-align: top;\n",
       "    }\n",
       "\n",
       "    .dataframe thead th {\n",
       "        text-align: right;\n",
       "    }\n",
       "</style>\n",
       "<table border=\"1\" class=\"dataframe\">\n",
       "  <thead>\n",
       "    <tr style=\"text-align: right;\">\n",
       "      <th></th>\n",
       "      <th>user_name</th>\n",
       "      <th>user_location</th>\n",
       "      <th>user_description</th>\n",
       "      <th>user_verified</th>\n",
       "      <th>date</th>\n",
       "      <th>text</th>\n",
       "      <th>hashtags</th>\n",
       "      <th>source</th>\n",
       "    </tr>\n",
       "  </thead>\n",
       "  <tbody>\n",
       "    <tr>\n",
       "      <th>0</th>\n",
       "      <td>LiV</td>\n",
       "      <td>757</td>\n",
       "      <td>break the cycle.eye choose happy. sublime. mul...</td>\n",
       "      <td>False</td>\n",
       "      <td>2022-07-26 01:05:26+00:00</td>\n",
       "      <td>RT @plantbasedvibes: 👩🏽‍🌾 it's the 3 sisters g...</td>\n",
       "      <td>[dc, ward8, fooddesert, indigenous, farming, u...</td>\n",
       "      <td>Twitter Web App</td>\n",
       "    </tr>\n",
       "    <tr>\n",
       "      <th>1</th>\n",
       "      <td>𝚖𝚎𝚎𝚙 ᰔᩚ</td>\n",
       "      <td>they/s 18 pan 🍰 || (infp-a)</td>\n",
       "      <td>『 𖦹₊˚⊙♐︎🌙♏︎ ↑♌︎•°๑ 』 ⋆｡ﾟ☁︎  ｡⋆ೄྀ࿐ ˊˎ-·˚ ༘₊· ͟͟...</td>\n",
       "      <td>False</td>\n",
       "      <td>2022-07-25 23:59:36+00:00</td>\n",
       "      <td>RT @plantbasedvibes: 👩🏽‍🌾 it's the 3 sisters g...</td>\n",
       "      <td>[dc, ward8, fooddesert, indigenous, farming, u...</td>\n",
       "      <td>Twitter for Android</td>\n",
       "    </tr>\n",
       "    <tr>\n",
       "      <th>2</th>\n",
       "      <td>🎉 follow @greenwithin 🌷</td>\n",
       "      <td>dmv</td>\n",
       "      <td>the og 💚 plant-based 16 years. afro-indigenous...</td>\n",
       "      <td>False</td>\n",
       "      <td>2022-07-25 23:47:22+00:00</td>\n",
       "      <td>RT @plantbasedvibes: 👩🏽‍🌾 it's the 3 sisters g...</td>\n",
       "      <td>[dc, ward8, fooddesert, indigenous, farming, u...</td>\n",
       "      <td>Twitter for iPhone</td>\n",
       "    </tr>\n",
       "    <tr>\n",
       "      <th>3</th>\n",
       "      <td>Gail Chambers</td>\n",
       "      <td></td>\n",
       "      <td></td>\n",
       "      <td>False</td>\n",
       "      <td>2022-07-25 20:01:11+00:00</td>\n",
       "      <td>RT @ElmiraMarket: ‼️ Elmira Alert ‼️ | Media 📺...</td>\n",
       "      <td>None</td>\n",
       "      <td>Twitter for Android</td>\n",
       "    </tr>\n",
       "    <tr>\n",
       "      <th>4</th>\n",
       "      <td>The Buffalo News</td>\n",
       "      <td>Buffalo, NY</td>\n",
       "      <td>News alerts, headlines &amp; more from WNY’s large...</td>\n",
       "      <td>True</td>\n",
       "      <td>2022-07-25 17:58:12+00:00</td>\n",
       "      <td>RT @JanetBfloNext: Efforts to address Buffalo'...</td>\n",
       "      <td>None</td>\n",
       "      <td>TweetDeck</td>\n",
       "    </tr>\n",
       "    <tr>\n",
       "      <th>...</th>\n",
       "      <td>...</td>\n",
       "      <td>...</td>\n",
       "      <td>...</td>\n",
       "      <td>...</td>\n",
       "      <td>...</td>\n",
       "      <td>...</td>\n",
       "      <td>...</td>\n",
       "      <td>...</td>\n",
       "    </tr>\n",
       "    <tr>\n",
       "      <th>214</th>\n",
       "      <td>Adam Wright</td>\n",
       "      <td></td>\n",
       "      <td>I help people get fit and escape toxic diet cu...</td>\n",
       "      <td>False</td>\n",
       "      <td>2022-07-16 03:59:26+00:00</td>\n",
       "      <td>Reply to “choice” is the only factor when it c...</td>\n",
       "      <td>[nutrition, fooddesert, dunningkruger, health]</td>\n",
       "      <td>RepurposeIO</td>\n",
       "    </tr>\n",
       "    <tr>\n",
       "      <th>215</th>\n",
       "      <td>NewsVoyUS</td>\n",
       "      <td>Somerville, MA</td>\n",
       "      <td>NewsVoy makes it easy to curate @WordPress or ...</td>\n",
       "      <td>False</td>\n",
       "      <td>2022-07-15 21:42:02+00:00</td>\n",
       "      <td>U.S. Treasury Secretary Janet Yellen on Friday...</td>\n",
       "      <td>None</td>\n",
       "      <td>NewsVoy</td>\n",
       "    </tr>\n",
       "    <tr>\n",
       "      <th>216</th>\n",
       "      <td>NewsVoyUS</td>\n",
       "      <td>Somerville, MA</td>\n",
       "      <td>NewsVoy makes it easy to curate @WordPress or ...</td>\n",
       "      <td>False</td>\n",
       "      <td>2022-07-15 21:02:12+00:00</td>\n",
       "      <td>U.S. Treasury Secretary Janet Yellen on Friday...</td>\n",
       "      <td>None</td>\n",
       "      <td>NewsVoy</td>\n",
       "    </tr>\n",
       "    <tr>\n",
       "      <th>217</th>\n",
       "      <td>in2spirit 🌻</td>\n",
       "      <td>Los Angeles, CA</td>\n",
       "      <td>Many voices-one message.\\nWe are one in spirit...</td>\n",
       "      <td>False</td>\n",
       "      <td>2022-07-15 20:42:51+00:00</td>\n",
       "      <td>RT @FoPRR: Do something wonderful tonight! Ord...</td>\n",
       "      <td>[food, Lakota]</td>\n",
       "      <td>Twitter for Android</td>\n",
       "    </tr>\n",
       "    <tr>\n",
       "      <th>218</th>\n",
       "      <td>The Well at Oxon Run</td>\n",
       "      <td>Southeast, Washington DC</td>\n",
       "      <td>An urban farm and community wellness space ser...</td>\n",
       "      <td>False</td>\n",
       "      <td>2022-07-15 15:16:46+00:00</td>\n",
       "      <td>RT @plantbasedvibes: 👩🏽‍🌾 it's the 3 sisters g...</td>\n",
       "      <td>[dc, ward8, fooddesert, indigenous, farming, u...</td>\n",
       "      <td>Twitter Web App</td>\n",
       "    </tr>\n",
       "  </tbody>\n",
       "</table>\n",
       "<p>219 rows × 8 columns</p>\n",
       "</div>"
      ],
      "text/plain": [
       "                   user_name                user_location  \\\n",
       "0                        LiV                          757   \n",
       "1                    𝚖𝚎𝚎𝚙 ᰔᩚ  they/s 18 pan 🍰 || (infp-a)   \n",
       "2    🎉 follow @greenwithin 🌷                          dmv   \n",
       "3              Gail Chambers                                \n",
       "4           The Buffalo News                  Buffalo, NY   \n",
       "..                       ...                          ...   \n",
       "214              Adam Wright                                \n",
       "215                NewsVoyUS               Somerville, MA   \n",
       "216                NewsVoyUS               Somerville, MA   \n",
       "217              in2spirit 🌻              Los Angeles, CA   \n",
       "218     The Well at Oxon Run     Southeast, Washington DC   \n",
       "\n",
       "                                      user_description  user_verified  \\\n",
       "0    break the cycle.eye choose happy. sublime. mul...          False   \n",
       "1    『 𖦹₊˚⊙♐︎🌙♏︎ ↑♌︎•°๑ 』 ⋆｡ﾟ☁︎  ｡⋆ೄྀ࿐ ˊˎ-·˚ ༘₊· ͟͟...          False   \n",
       "2    the og 💚 plant-based 16 years. afro-indigenous...          False   \n",
       "3                                                               False   \n",
       "4    News alerts, headlines & more from WNY’s large...           True   \n",
       "..                                                 ...            ...   \n",
       "214  I help people get fit and escape toxic diet cu...          False   \n",
       "215  NewsVoy makes it easy to curate @WordPress or ...          False   \n",
       "216  NewsVoy makes it easy to curate @WordPress or ...          False   \n",
       "217  Many voices-one message.\\nWe are one in spirit...          False   \n",
       "218  An urban farm and community wellness space ser...          False   \n",
       "\n",
       "                         date  \\\n",
       "0   2022-07-26 01:05:26+00:00   \n",
       "1   2022-07-25 23:59:36+00:00   \n",
       "2   2022-07-25 23:47:22+00:00   \n",
       "3   2022-07-25 20:01:11+00:00   \n",
       "4   2022-07-25 17:58:12+00:00   \n",
       "..                        ...   \n",
       "214 2022-07-16 03:59:26+00:00   \n",
       "215 2022-07-15 21:42:02+00:00   \n",
       "216 2022-07-15 21:02:12+00:00   \n",
       "217 2022-07-15 20:42:51+00:00   \n",
       "218 2022-07-15 15:16:46+00:00   \n",
       "\n",
       "                                                  text  \\\n",
       "0    RT @plantbasedvibes: 👩🏽‍🌾 it's the 3 sisters g...   \n",
       "1    RT @plantbasedvibes: 👩🏽‍🌾 it's the 3 sisters g...   \n",
       "2    RT @plantbasedvibes: 👩🏽‍🌾 it's the 3 sisters g...   \n",
       "3    RT @ElmiraMarket: ‼️ Elmira Alert ‼️ | Media 📺...   \n",
       "4    RT @JanetBfloNext: Efforts to address Buffalo'...   \n",
       "..                                                 ...   \n",
       "214  Reply to “choice” is the only factor when it c...   \n",
       "215  U.S. Treasury Secretary Janet Yellen on Friday...   \n",
       "216  U.S. Treasury Secretary Janet Yellen on Friday...   \n",
       "217  RT @FoPRR: Do something wonderful tonight! Ord...   \n",
       "218  RT @plantbasedvibes: 👩🏽‍🌾 it's the 3 sisters g...   \n",
       "\n",
       "                                              hashtags               source  \n",
       "0    [dc, ward8, fooddesert, indigenous, farming, u...      Twitter Web App  \n",
       "1    [dc, ward8, fooddesert, indigenous, farming, u...  Twitter for Android  \n",
       "2    [dc, ward8, fooddesert, indigenous, farming, u...   Twitter for iPhone  \n",
       "3                                                 None  Twitter for Android  \n",
       "4                                                 None            TweetDeck  \n",
       "..                                                 ...                  ...  \n",
       "214     [nutrition, fooddesert, dunningkruger, health]          RepurposeIO  \n",
       "215                                               None              NewsVoy  \n",
       "216                                               None              NewsVoy  \n",
       "217                                     [food, Lakota]  Twitter for Android  \n",
       "218  [dc, ward8, fooddesert, indigenous, farming, u...      Twitter Web App  \n",
       "\n",
       "[219 rows x 8 columns]"
      ]
     },
     "execution_count": 75,
     "metadata": {},
     "output_type": "execute_result"
    }
   ],
   "source": [
    "# show the dataframe\n",
    "tweets_df"
   ]
  },
  {
   "cell_type": "code",
   "execution_count": 79,
   "metadata": {},
   "outputs": [],
   "source": [
    "import numpy as np"
   ]
  },
  {
   "cell_type": "code",
   "execution_count": 81,
   "metadata": {},
   "outputs": [
    {
     "data": {
      "text/plain": [
       "219"
      ]
     },
     "execution_count": 81,
     "metadata": {},
     "output_type": "execute_result"
    }
   ],
   "source": [
    "a1 = np.array(tweets_df['user_location'])\n",
    "len(a1)"
   ]
  },
  {
   "cell_type": "code",
   "execution_count": 83,
   "metadata": {},
   "outputs": [
    {
     "data": {
      "text/plain": [
       "array(['',\n",
       "       '14 she/it/pika\\nwhite tma\\ndemigirl lesbian\\nablebodied perisex',\n",
       "       '14yo perisex ablebodied TME', '19 she/her/hers BLM',\n",
       "       '19 • bi • dominican', '20', '28 Kitten ||minors dni|| 21+ ',\n",
       "       '757', '@thegumbeauxpot', 'An insignificant rock in space',\n",
       "       'Apache Junction, AZ', 'Atlanta, GA', 'Bad Wildbad, Deutschland',\n",
       "       'Ballston Spa, NY', 'Black lesbian, tme, minor',\n",
       "       'Bradford, England', 'Brooklyn, New York', 'Bucureşti, România',\n",
       "       'Buffalo, NY', 'Charlotte Place', 'Chicago, IL',\n",
       "       'Clear Lake, Iowa', 'DC in body/Chicago in spirit',\n",
       "       'DNI: Proshippers, TERFs', 'EC', 'Earth',\n",
       "       'Edgewater, Chicago, USA', 'Everywhere',\n",
       "       'Fae, sae, tey, zey, zhe, xhe, xe, ze, ve ++│♎︎\\nEng/Pt-br || 🏳\\u200d🌈🏳️\\u200d⚧️ ⚧ ⚲ ⚣ || BTLM + ACAB\\n🇧🇷 || Masc and fem terms preffered!!',\n",
       "       'Fifth spruce on the far left', 'FifthWard, Houston, TX',\n",
       "       'Florida', 'Florida, USA', 'Fly-over states', 'Fort Lauderdale',\n",
       "       'Georgia Peach 🍑', 'Gloucester, MA', 'Hermantown', 'In the sea/j',\n",
       "       'It/She', 'Jefferson City, Missouri', 'Kentucky, USA',\n",
       "       'Kizh/Tongva land ', 'Los Angeles, CA', 'MINORS DONT INTERACT PLS',\n",
       "       'Maryland', 'Mayagüez, Puerto Rico, USA', 'Melbourne',\n",
       "       'Milledgeville, Ga', 'NYC', 'New Yoke, Shatter-Verse.',\n",
       "       'Northwest Territories, Canada', 'Northwind', 'Ortonville, MN',\n",
       "       'Peace', 'Piedmont, Italy', 'Richmond, KY', 'Sacramento',\n",
       "       'San Antonio, TX', 'Seattle, WA', 'Somerville, MA', 'Somewhere',\n",
       "       'Southeast, Washington DC', 'Southwind', 'São Paulo, Brasil',\n",
       "       'THE FORBIDDEN ZONE', 'Tampa Bay, Florida', 'The Literature Club',\n",
       "       'Transylvania', 'Trey Evans', 'Twin Falls, Id.', 'UK', 'USA',\n",
       "       'Union, NJ', 'Washington DC', 'Washington, DC', 'Wellington Wells',\n",
       "       'Wonderland', 'Worldwide', 'a rapidly disappearing forest',\n",
       "       'afro–puerto rican', 'always confused', 'black | fan acc(?)',\n",
       "       'bustin down in driftveil city', 'carrd byf /srs ⛧ blm acab💙💛',\n",
       "       'dema | they/he/fei | bi | 🇬🇧', 'dmv',\n",
       "       'gay & non-binary (romanian)', 'he ✦ they ✦ it', 'he/him only •',\n",
       "       'he/she\\nlo/love\\nbone/bones \\nvamp/vamps\\n\\nblk 18 🇳🇬\\n\\ntransmasc perisex ⚢',\n",
       "       'hell', 'hell, nc', 'icon: chrysanthanos',\n",
       "       'it/dove ask for fronters', 'it/she/bloom/mew ↻ white ↻ 17',\n",
       "       'lënapehóking (si)', 'moneyyy.me/$roseybloom24',\n",
       "       'no pronouns use my name', 'o', 'occupied Osage &Kiikaapoi land',\n",
       "       'outer space', 'pluto', 'proships/terfs/mcyt dni',\n",
       "       'read link + pinned thread', 'read pinned byf', 'she he they',\n",
       "       'she/her', 'she/her white', 'she/her | 18 | bi | black',\n",
       "       'she/they • 18 • winnipeg, mb', 'she/they/xe | desi | ⚥',\n",
       "       'sky, high winds', \"spelman college '25\", 'stuck in the coffin ',\n",
       "       'the void', 'they/s 18 pan 🍰 || (infp-a)',\n",
       "       'tma aphrofluid 🏳️\\u200d🌈🎗🖇', 'tme ♡ 18 ♡ ic final-demigirl',\n",
       "       'turn around, nosy :)', 'way up', '\\xa0any pronouns ★ white ★ 15',\n",
       "       '🌍'], dtype=object)"
      ]
     },
     "execution_count": 83,
     "metadata": {},
     "output_type": "execute_result"
    }
   ],
   "source": [
    "a2 = np.unique(np.array(tweets_df['user_location']))\n",
    "len(a2)\n",
    "a2"
   ]
  },
  {
   "cell_type": "code",
   "execution_count": 84,
   "metadata": {},
   "outputs": [
    {
     "data": {
      "text/plain": [
       "1752"
      ]
     },
     "execution_count": 84,
     "metadata": {},
     "output_type": "execute_result"
    }
   ],
   "source": [
    "tweets_df.size"
   ]
  },
  {
   "cell_type": "code",
   "execution_count": 85,
   "metadata": {},
   "outputs": [],
   "source": [
    "tweets_df.to_csv('Food-Deserts-data.csv')"
   ]
  },
  {
   "cell_type": "code",
   "execution_count": 24,
   "metadata": {},
   "outputs": [],
   "source": []
  },
  {
   "cell_type": "code",
   "execution_count": 29,
   "metadata": {},
   "outputs": [
    {
     "data": {
      "text/plain": [
       "(-1.0, 1.0)"
      ]
     },
     "execution_count": 29,
     "metadata": {},
     "output_type": "execute_result"
    },
    {
     "data": {
      "image/png": "[encoded data removed]",
      "text/plain": [
       "<Figure size 432x432 with 1 Axes>"
      ]
     },
     "metadata": {
      "needs_background": "light"
     },
     "output_type": "display_data"
    }
   ],
   "source": []
  },
  {
   "cell_type": "code",
   "execution_count": 64,
   "metadata": {},
   "outputs": [
    {
     "data": {
      "image/png": "[encoded data removed]",
      "text/plain": [
       "<Figure size 432x432 with 1 Axes>"
      ]
     },
     "metadata": {
      "needs_background": "light"
     },
     "output_type": "display_data"
    }
   ],
   "source": [
    "# libraries\n",
    "import matplotlib.pyplot as plt\n",
    "import numpy as np\n",
    "import seaborn as sns\n",
    " \n",
    "# create data\n",
    "x = np.random.random(25)\n",
    "y = np.random.rand(25)\n",
    "z = x+np.random.rand(25)\n",
    "\n",
    "for i in range(len(x)):\n",
    "    x[i] = -1 + (x[i] * (1-(-1)))\n",
    "for i in range(len(y)):\n",
    "    y[i] = -1 + (y[i] * (1-(-1)))\n",
    "# for i in range(len(z)):\n",
    "#     z[i] = -1 + (z[i] * (1-(-1)))\n",
    "\n",
    "z=z*z\n",
    " \n",
    "# first, we'll create a new figure and axis object\n",
    "\n",
    "fig, ax = plt.subplots(figsize=(6,6))\n",
    "\n",
    "# set the number of rows and cols for our table\n",
    "\n",
    "ax.set_ylim(-1, 1)\n",
    "ax.set_xlim(0, 1)\n",
    "\n",
    "# Change color with c and transparency with alpha. \n",
    "# I map the color to the X axis value.\n",
    "plt.scatter(x, y, s=z*2000, c=x, cmap=\"winter\", alpha=0.4, edgecolors=\"black\", linewidth=1)\n",
    " \n",
    "# Add titles (main and on axis)\n",
    "plt.xlabel(\"the X axis\")\n",
    "plt.ylabel(\"Sentiment\")\n",
    "plt.title(\"Deep Sentigram\")\n",
    "\n",
    "# Show the graph\n",
    "plt.show()"
   ]
  },
  {
   "cell_type": "code",
   "execution_count": 66,
   "metadata": {},
   "outputs": [
    {
     "data": {
      "image/png": "[encoded data removed]",
      "text/plain": [
       "<Figure size 432x432 with 1 Axes>"
      ]
     },
     "metadata": {
      "needs_background": "light"
     },
     "output_type": "display_data"
    }
   ],
   "source": [
    "import matplotlib.pyplot as plt\n",
    "import numpy as np\n",
    "\n",
    "\n",
    "fig, ax = plt.subplots(figsize=(6,6))\n",
    "\n",
    "ax.set_aspect(1)\n",
    "theta = np.linspace(-np.pi, np.pi, 200)\n",
    "plt.plot(np.sin(theta), np.cos(theta))\n",
    "\n",
    "plt.show()"
   ]
  },
  {
   "cell_type": "code",
   "execution_count": 97,
   "metadata": {},
   "outputs": [
    {
     "ename": "ImportError",
     "evalue": "cannot import name 'basemap' from 'mpl_toolkits' (unknown location)",
     "output_type": "error",
     "traceback": [
      "\u001b[0;31m---------------------------------------------------------------------------\u001b[0m",
      "\u001b[0;31mImportError\u001b[0m                               Traceback (most recent call last)",
      "\u001b[1;32m/Users/sudharsangopalakrishnan/VRSN-And-Deep-Spectrogram/test2.ipynb Cell 16\u001b[0m in \u001b[0;36m<module>\u001b[0;34m\u001b[0m\n\u001b[0;32m----> <a href='vscode-notebook-cell:/Users/sudharsangopalakrishnan/VRSN-And-Deep-Spectrogram/test2.ipynb#ch0000018?line=0'>1</a>\u001b[0m \u001b[39mfrom\u001b[39;00m \u001b[39mmpl_toolkits\u001b[39;00m \u001b[39mimport\u001b[39;00m basemap\n",
      "\u001b[0;31mImportError\u001b[0m: cannot import name 'basemap' from 'mpl_toolkits' (unknown location)"
     ]
    }
   ],
   "source": [
    "import mpl_toolkits.mplot3d"
   ]
  },
  {
   "cell_type": "code",
   "execution_count": 89,
   "metadata": {},
   "outputs": [
    {
     "ename": "NameError",
     "evalue": "name 'Basemap' is not defined",
     "output_type": "error",
     "traceback": [
      "\u001b[0;31m---------------------------------------------------------------------------\u001b[0m",
      "\u001b[0;31mNameError\u001b[0m                                 Traceback (most recent call last)",
      "\u001b[1;32m/Users/sudharsangopalakrishnan/VRSN-And-Deep-Spectrogram/test2.ipynb Cell 17\u001b[0m in \u001b[0;36m<module>\u001b[0;34m\u001b[0m\n\u001b[1;32m      <a href='vscode-notebook-cell:/Users/sudharsangopalakrishnan/VRSN-And-Deep-Spectrogram/test2.ipynb#ch0000012?line=3'>4</a>\u001b[0m \u001b[39mfrom\u001b[39;00m \u001b[39mdatetime\u001b[39;00m \u001b[39mimport\u001b[39;00m datetime\n\u001b[1;32m      <a href='vscode-notebook-cell:/Users/sudharsangopalakrishnan/VRSN-And-Deep-Spectrogram/test2.ipynb#ch0000012?line=4'>5</a>\u001b[0m \u001b[39m# miller projection\u001b[39;00m\n\u001b[0;32m----> <a href='vscode-notebook-cell:/Users/sudharsangopalakrishnan/VRSN-And-Deep-Spectrogram/test2.ipynb#ch0000012?line=5'>6</a>\u001b[0m \u001b[39mmap\u001b[39m \u001b[39m=\u001b[39m Basemap(projection\u001b[39m=\u001b[39m\u001b[39m'\u001b[39m\u001b[39mmill\u001b[39m\u001b[39m'\u001b[39m,lon_0\u001b[39m=\u001b[39m\u001b[39m180\u001b[39m)\n\u001b[1;32m      <a href='vscode-notebook-cell:/Users/sudharsangopalakrishnan/VRSN-And-Deep-Spectrogram/test2.ipynb#ch0000012?line=6'>7</a>\u001b[0m \u001b[39m# plot coastlines, draw label meridians and parallels.\u001b[39;00m\n\u001b[1;32m      <a href='vscode-notebook-cell:/Users/sudharsangopalakrishnan/VRSN-And-Deep-Spectrogram/test2.ipynb#ch0000012?line=7'>8</a>\u001b[0m \u001b[39mmap\u001b[39m\u001b[39m.\u001b[39mdrawcoastlines()\n",
      "\u001b[0;31mNameError\u001b[0m: name 'Basemap' is not defined"
     ]
    }
   ],
   "source": [
    "import numpy as np\n",
    "from mpl_toolkits import *\n",
    "import matplotlib.pyplot as plt\n",
    "from datetime import datetime\n",
    "# miller projection\n",
    "map = Basemap(projection='mill',lon_0=180)\n",
    "# plot coastlines, draw label meridians and parallels.\n",
    "map.drawcoastlines()\n",
    "map.drawparallels(np.arange(-90,90,30),labels=[1,0,0,0])\n",
    "map.drawmeridians(np.arange(map.lonmin,map.lonmax+30,60),labels=[0,0,0,1])\n",
    "# fill continents 'coral' (with zorder=0), color wet areas 'aqua'\n",
    "map.drawmapboundary(fill_color='aqua')\n",
    "map.fillcontinents(color='coral',lake_color='aqua')\n",
    "# shade the night areas, with alpha transparency so the\n",
    "# map shows through. Use current time in UTC.\n",
    "date = datetime.utcnow()\n",
    "CS=map.nightshade(date)\n",
    "plt.title('Day/Night Map for %s (UTC)' % date.strftime(\"%d %b %Y %H:%M:%S\"))\n",
    "plt.show()"
   ]
  },
  {
   "cell_type": "code",
   "execution_count": 98,
   "metadata": {},
   "outputs": [
    {
     "name": "stderr",
     "output_type": "stream",
     "text": [
      "[nltk_data] Downloading package punkt to\n",
      "[nltk_data]     /Users/sudharsangopalakrishnan/nltk_data...\n",
      "[nltk_data]   Package punkt is already up-to-date!\n"
     ]
    }
   ],
   "source": [
    "from build_and_train import *"
   ]
  }
 ],
 "metadata": {
  "kernelspec": {
   "display_name": "Python 3.10.2 64-bit",
   "language": "python",
   "name": "python3"
  },
  "language_info": {
   "codemirror_mode": {
    "name": "ipython",
    "version": 3
   },
   "file_extension": ".py",
   "mimetype": "text/x-python",
   "name": "python",
   "nbconvert_exporter": "python",
   "pygments_lexer": "ipython3",
   "version": "3.10.2"
  },
  "orig_nbformat": 4,
  "vscode": {
   "interpreter": {
    "hash": "aee8b7b246df8f9039afb4144a1f6fd8d2ca17a180786b69acc140d282b71a49"
   }
  }
 },
 "nbformat": 4,
 "nbformat_minor": 2
}
