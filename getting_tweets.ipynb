{
 "cells": [
  {
   "cell_type": "code",
   "execution_count": 1,
   "metadata": {},
   "outputs": [],
   "source": [
    "import tweepy as tw\n",
    "import numpy as np\n",
    "# your Twitter API key and API secret\n",
    "my_api_key = \"YLevgj09NJ7EY4EVwjlUwwA3g\"\n",
    "my_api_secret = \"keGbAP1gT7dxbAYcMzQDbGZfhnU2d0BbJn4dbhgRGtspUxKBUZ\"\n",
    "# authenticate\n",
    "auth = tw.OAuthHandler(my_api_key, my_api_secret)\n",
    "api = tw.API(auth, wait_on_rate_limit=True)"
   ]
  },
  {
   "cell_type": "code",
   "execution_count": 2,
   "metadata": {},
   "outputs": [],
   "source": [
    "search_query = \"#fooddesert\" #GMOs"
   ]
  },
  {
   "cell_type": "code",
   "execution_count": 3,
   "metadata": {},
   "outputs": [
    {
     "name": "stderr",
     "output_type": "stream",
     "text": [
      "Unexpected parameter: since\n",
      "Unexpected parameter: since\n",
      "Unexpected parameter: since\n",
      "Unexpected parameter: since\n",
      "Unexpected parameter: since\n",
      "Unexpected parameter: since\n",
      "Unexpected parameter: since\n"
     ]
    },
    {
     "name": "stdout",
     "output_type": "stream",
     "text": [
      "Total Tweets fetched: 90\n"
     ]
    }
   ],
   "source": [
    "# get tweets from the API\n",
    "tweets = tw.Cursor(api.search_tweets,\n",
    "              q=search_query,\n",
    "              lang=\"en\",\n",
    "              since=\"2016-09-16\").items(400)\n",
    "\n",
    "# store the API responses in a list\n",
    "tweets_copy1 = []\n",
    "for tweet in tweets:\n",
    "    tweets_copy1.append(tweet)\n",
    "    \n",
    "print(\"Total Tweets fetched:\", len(tweets_copy1))"
   ]
  },
  {
   "cell_type": "code",
   "execution_count": 4,
   "metadata": {},
   "outputs": [
    {
     "data": {
      "text/plain": [
       "90"
      ]
     },
     "execution_count": 4,
     "metadata": {},
     "output_type": "execute_result"
    }
   ],
   "source": [
    "len(tweets_copy1)"
   ]
  },
  {
   "cell_type": "code",
   "execution_count": 5,
   "metadata": {},
   "outputs": [],
   "source": [
    "search_query = \"#foodinsecurity\" #GMOs"
   ]
  },
  {
   "cell_type": "code",
   "execution_count": 6,
   "metadata": {},
   "outputs": [
    {
     "name": "stderr",
     "output_type": "stream",
     "text": [
      "Unexpected parameter: since\n",
      "Unexpected parameter: since\n",
      "Unexpected parameter: since\n",
      "Unexpected parameter: since\n",
      "Unexpected parameter: since\n",
      "Unexpected parameter: since\n",
      "Unexpected parameter: since\n",
      "Unexpected parameter: since\n",
      "Unexpected parameter: since\n",
      "Unexpected parameter: since\n",
      "Unexpected parameter: since\n",
      "Unexpected parameter: since\n",
      "Unexpected parameter: since\n",
      "Unexpected parameter: since\n",
      "Unexpected parameter: since\n",
      "Unexpected parameter: since\n",
      "Unexpected parameter: since\n",
      "Unexpected parameter: since\n",
      "Unexpected parameter: since\n",
      "Unexpected parameter: since\n",
      "Unexpected parameter: since\n",
      "Unexpected parameter: since\n",
      "Unexpected parameter: since\n",
      "Unexpected parameter: since\n",
      "Unexpected parameter: since\n",
      "Unexpected parameter: since\n",
      "Unexpected parameter: since\n"
     ]
    },
    {
     "name": "stdout",
     "output_type": "stream",
     "text": [
      "Total Tweets fetched: 400\n"
     ]
    }
   ],
   "source": [
    "# get tweets from the API\n",
    "tweets = tw.Cursor(api.search_tweets,\n",
    "              q=search_query,\n",
    "              lang=\"en\",\n",
    "              since=\"2016-09-16\").items(400)\n",
    "\n",
    "# store the API responses in a list\n",
    "tweets_copy2 = []\n",
    "for tweet in tweets:\n",
    "    tweets_copy2.append(tweet)\n",
    "    \n",
    "print(\"Total Tweets fetched:\", len(tweets_copy2))"
   ]
  },
  {
   "cell_type": "code",
   "execution_count": 7,
   "metadata": {},
   "outputs": [
    {
     "data": {
      "text/plain": [
       "400"
      ]
     },
     "execution_count": 7,
     "metadata": {},
     "output_type": "execute_result"
    }
   ],
   "source": [
    "len(tweets_copy2)"
   ]
  },
  {
   "cell_type": "code",
   "execution_count": 8,
   "metadata": {},
   "outputs": [],
   "source": [
    "tweets_copy = np.concatenate((tweets_copy1, tweets_copy2))"
   ]
  },
  {
   "cell_type": "code",
   "execution_count": 9,
   "metadata": {},
   "outputs": [
    {
     "name": "stderr",
     "output_type": "stream",
     "text": [
      "/var/folders/4m/jxk5_ydd4zl7c_t8ktc70vnw0000gn/T/ipykernel_15638/1880315750.py:15: FutureWarning: The frame.append method is deprecated and will be removed from pandas in a future version. Use pandas.concat instead.\n",
      "  tweets_df = tweets_df.append(pd.DataFrame({'user_name': tweet.user.name,\n",
      "Rate limit reached. Sleeping for: 440\n"
     ]
    }
   ],
   "source": [
    "import pandas as pd\n",
    "\n",
    "# intialize the dataframe\n",
    "tweets_df = pd.DataFrame()\n",
    "\n",
    "# populate the dataframe\n",
    "for tweet in tweets_copy:\n",
    "    hashtags = []\n",
    "    try:\n",
    "        for hashtag in tweet.entities[\"hashtags\"]:\n",
    "            hashtags.append(hashtag[\"text\"])\n",
    "        text = api.get_status(id=tweet.id, tweet_mode='extended').full_text\n",
    "    except:\n",
    "        pass\n",
    "    tweets_df = tweets_df.append(pd.DataFrame({'user_name': tweet.user.name, \n",
    "                                               'user_location': tweet.user.location,\\\n",
    "                                               'user_description': tweet.user.description,\n",
    "                                               'user_verified': tweet.user.verified,\n",
    "                                               'date': tweet.created_at,\n",
    "                                               'text': text, \n",
    "                                               'hashtags': [hashtags if hashtags else None],\n",
    "                                               'source': tweet.source}))\n",
    "    tweets_df = tweets_df.reset_index(drop=True)"
   ]
  },
  {
   "cell_type": "code",
   "execution_count": 10,
   "metadata": {},
   "outputs": [
    {
     "data": {
      "text/html": [
       "<div>\n",
       "<style scoped>\n",
       "    .dataframe tbody tr th:only-of-type {\n",
       "        vertical-align: middle;\n",
       "    }\n",
       "\n",
       "    .dataframe tbody tr th {\n",
       "        vertical-align: top;\n",
       "    }\n",
       "\n",
       "    .dataframe thead th {\n",
       "        text-align: right;\n",
       "    }\n",
       "</style>\n",
       "<table border=\"1\" class=\"dataframe\">\n",
       "  <thead>\n",
       "    <tr style=\"text-align: right;\">\n",
       "      <th></th>\n",
       "      <th>user_name</th>\n",
       "      <th>user_location</th>\n",
       "      <th>user_description</th>\n",
       "      <th>user_verified</th>\n",
       "      <th>date</th>\n",
       "      <th>text</th>\n",
       "      <th>hashtags</th>\n",
       "      <th>source</th>\n",
       "    </tr>\n",
       "  </thead>\n",
       "  <tbody>\n",
       "    <tr>\n",
       "      <th>0</th>\n",
       "      <td>Edith McDonald White</td>\n",
       "      <td>New Orleans</td>\n",
       "      <td>New Orleans strong, and will always be proud t...</td>\n",
       "      <td>False</td>\n",
       "      <td>2022-08-04 20:38:02+00:00</td>\n",
       "      <td>RT @FoPRR: Waving thanks to the kind donor who...</td>\n",
       "      <td>None</td>\n",
       "      <td>Twitter for iPhone</td>\n",
       "    </tr>\n",
       "    <tr>\n",
       "      <th>1</th>\n",
       "      <td>FriendsPineRidgeRes</td>\n",
       "      <td></td>\n",
       "      <td>Friends of Pine Ridge Reservation - Making lif...</td>\n",
       "      <td>False</td>\n",
       "      <td>2022-08-04 20:37:40+00:00</td>\n",
       "      <td>Waving thanks to the kind donor who sent cerea...</td>\n",
       "      <td>None</td>\n",
       "      <td>Twitter for iPad</td>\n",
       "    </tr>\n",
       "    <tr>\n",
       "      <th>2</th>\n",
       "      <td>Laura McShane, MLIS, MLA</td>\n",
       "      <td>Cleveland, OH</td>\n",
       "      <td>Committed to living small-Retired librarian-cr...</td>\n",
       "      <td>False</td>\n",
       "      <td>2022-08-03 16:31:05+00:00</td>\n",
       "      <td>@JosephWMead @rebecca__maurer @jsantanaward14 ...</td>\n",
       "      <td>None</td>\n",
       "      <td>Twitter Web App</td>\n",
       "    </tr>\n",
       "    <tr>\n",
       "      <th>3</th>\n",
       "      <td>soup bird</td>\n",
       "      <td></td>\n",
       "      <td>gender</td>\n",
       "      <td>False</td>\n",
       "      <td>2022-08-03 06:11:33+00:00</td>\n",
       "      <td>RT @FoPRR: Do something kind! Help feed a Lako...</td>\n",
       "      <td>[food, peanutbutter, beans, formula, milk, cof...</td>\n",
       "      <td>vehement_soup</td>\n",
       "    </tr>\n",
       "    <tr>\n",
       "      <th>4</th>\n",
       "      <td>FriendsPineRidgeRes</td>\n",
       "      <td></td>\n",
       "      <td>Friends of Pine Ridge Reservation - Making lif...</td>\n",
       "      <td>False</td>\n",
       "      <td>2022-08-03 05:55:04+00:00</td>\n",
       "      <td>Do something kind! Help feed a Lakota family w...</td>\n",
       "      <td>[food, peanutbutter, beans, formula, milk, cof...</td>\n",
       "      <td>Twitter for iPad</td>\n",
       "    </tr>\n",
       "    <tr>\n",
       "      <th>...</th>\n",
       "      <td>...</td>\n",
       "      <td>...</td>\n",
       "      <td>...</td>\n",
       "      <td>...</td>\n",
       "      <td>...</td>\n",
       "      <td>...</td>\n",
       "      <td>...</td>\n",
       "      <td>...</td>\n",
       "    </tr>\n",
       "    <tr>\n",
       "      <th>485</th>\n",
       "      <td>Aluma🦋</td>\n",
       "      <td></td>\n",
       "      <td>tigiraweyitī💛❤️  ሰብ ኮንካ ትግራዋይ ኩን</td>\n",
       "      <td>False</td>\n",
       "      <td>2022-08-02 11:19:22+00:00</td>\n",
       "      <td>RT @SeifGebre: In #SouthSudan, #Somalia &amp;amp; ...</td>\n",
       "      <td>[SouthSudan, Somalia, Ethiopia, FoodInsecurity]</td>\n",
       "      <td>Twitter for iPhone</td>\n",
       "    </tr>\n",
       "    <tr>\n",
       "      <th>486</th>\n",
       "      <td>Rahwa Gal Erob💊⛱</td>\n",
       "      <td></td>\n",
       "      <td>ትግራይ ትዕወት💊💊💊💊💪💪💪https://t.co/tOrf5zUFGF</td>\n",
       "      <td>False</td>\n",
       "      <td>2022-08-02 11:16:29+00:00</td>\n",
       "      <td>RT @SeifGebre: In #SouthSudan, #Somalia &amp;amp; ...</td>\n",
       "      <td>[SouthSudan, Somalia, Ethiopia, FoodInsecurity]</td>\n",
       "      <td>Twitter for Android</td>\n",
       "    </tr>\n",
       "    <tr>\n",
       "      <th>487</th>\n",
       "      <td>Rahel yoseif</td>\n",
       "      <td></td>\n",
       "      <td></td>\n",
       "      <td>False</td>\n",
       "      <td>2022-08-02 11:06:09+00:00</td>\n",
       "      <td>RT @SeifGebre: In #SouthSudan, #Somalia &amp;amp; ...</td>\n",
       "      <td>[SouthSudan, Somalia, Ethiopia, FoodInsecurity]</td>\n",
       "      <td>Twitter for iPhone</td>\n",
       "    </tr>\n",
       "    <tr>\n",
       "      <th>488</th>\n",
       "      <td>Robel</td>\n",
       "      <td></td>\n",
       "      <td></td>\n",
       "      <td>False</td>\n",
       "      <td>2022-08-02 11:03:05+00:00</td>\n",
       "      <td>RT @SeifGebre: In #SouthSudan, #Somalia &amp;amp; ...</td>\n",
       "      <td>[SouthSudan, Somalia, Ethiopia, FoodInsecurity]</td>\n",
       "      <td>Twitter for Android</td>\n",
       "    </tr>\n",
       "    <tr>\n",
       "      <th>489</th>\n",
       "      <td>Netsanet kidane</td>\n",
       "      <td></td>\n",
       "      <td></td>\n",
       "      <td>False</td>\n",
       "      <td>2022-08-02 11:00:34+00:00</td>\n",
       "      <td>RT @SeifGebre: In #SouthSudan, #Somalia &amp;amp; ...</td>\n",
       "      <td>[SouthSudan, Somalia, Ethiopia, FoodInsecurity]</td>\n",
       "      <td>Twitter for iPhone</td>\n",
       "    </tr>\n",
       "  </tbody>\n",
       "</table>\n",
       "<p>490 rows × 8 columns</p>\n",
       "</div>"
      ],
      "text/plain": [
       "                    user_name  user_location  \\\n",
       "0        Edith McDonald White   New Orleans    \n",
       "1         FriendsPineRidgeRes                  \n",
       "2    Laura McShane, MLIS, MLA  Cleveland, OH   \n",
       "3                   soup bird                  \n",
       "4         FriendsPineRidgeRes                  \n",
       "..                        ...            ...   \n",
       "485                    Aluma🦋                  \n",
       "486          Rahwa Gal Erob💊⛱                  \n",
       "487              Rahel yoseif                  \n",
       "488                     Robel                  \n",
       "489           Netsanet kidane                  \n",
       "\n",
       "                                      user_description  user_verified  \\\n",
       "0    New Orleans strong, and will always be proud t...          False   \n",
       "1    Friends of Pine Ridge Reservation - Making lif...          False   \n",
       "2    Committed to living small-Retired librarian-cr...          False   \n",
       "3                                               gender          False   \n",
       "4    Friends of Pine Ridge Reservation - Making lif...          False   \n",
       "..                                                 ...            ...   \n",
       "485                   tigiraweyitī💛❤️  ሰብ ኮንካ ትግራዋይ ኩን          False   \n",
       "486            ትግራይ ትዕወት💊💊💊💊💪💪💪https://t.co/tOrf5zUFGF          False   \n",
       "487                                                             False   \n",
       "488                                                             False   \n",
       "489                                                             False   \n",
       "\n",
       "                         date  \\\n",
       "0   2022-08-04 20:38:02+00:00   \n",
       "1   2022-08-04 20:37:40+00:00   \n",
       "2   2022-08-03 16:31:05+00:00   \n",
       "3   2022-08-03 06:11:33+00:00   \n",
       "4   2022-08-03 05:55:04+00:00   \n",
       "..                        ...   \n",
       "485 2022-08-02 11:19:22+00:00   \n",
       "486 2022-08-02 11:16:29+00:00   \n",
       "487 2022-08-02 11:06:09+00:00   \n",
       "488 2022-08-02 11:03:05+00:00   \n",
       "489 2022-08-02 11:00:34+00:00   \n",
       "\n",
       "                                                  text  \\\n",
       "0    RT @FoPRR: Waving thanks to the kind donor who...   \n",
       "1    Waving thanks to the kind donor who sent cerea...   \n",
       "2    @JosephWMead @rebecca__maurer @jsantanaward14 ...   \n",
       "3    RT @FoPRR: Do something kind! Help feed a Lako...   \n",
       "4    Do something kind! Help feed a Lakota family w...   \n",
       "..                                                 ...   \n",
       "485  RT @SeifGebre: In #SouthSudan, #Somalia &amp; ...   \n",
       "486  RT @SeifGebre: In #SouthSudan, #Somalia &amp; ...   \n",
       "487  RT @SeifGebre: In #SouthSudan, #Somalia &amp; ...   \n",
       "488  RT @SeifGebre: In #SouthSudan, #Somalia &amp; ...   \n",
       "489  RT @SeifGebre: In #SouthSudan, #Somalia &amp; ...   \n",
       "\n",
       "                                              hashtags               source  \n",
       "0                                                 None   Twitter for iPhone  \n",
       "1                                                 None     Twitter for iPad  \n",
       "2                                                 None      Twitter Web App  \n",
       "3    [food, peanutbutter, beans, formula, milk, cof...        vehement_soup  \n",
       "4    [food, peanutbutter, beans, formula, milk, cof...     Twitter for iPad  \n",
       "..                                                 ...                  ...  \n",
       "485    [SouthSudan, Somalia, Ethiopia, FoodInsecurity]   Twitter for iPhone  \n",
       "486    [SouthSudan, Somalia, Ethiopia, FoodInsecurity]  Twitter for Android  \n",
       "487    [SouthSudan, Somalia, Ethiopia, FoodInsecurity]   Twitter for iPhone  \n",
       "488    [SouthSudan, Somalia, Ethiopia, FoodInsecurity]  Twitter for Android  \n",
       "489    [SouthSudan, Somalia, Ethiopia, FoodInsecurity]   Twitter for iPhone  \n",
       "\n",
       "[490 rows x 8 columns]"
      ]
     },
     "execution_count": 10,
     "metadata": {},
     "output_type": "execute_result"
    }
   ],
   "source": [
    "# show the dataframe\n",
    "tweets_df"
   ]
  },
  {
   "cell_type": "code",
   "execution_count": 11,
   "metadata": {},
   "outputs": [],
   "source": [
    "import numpy as np"
   ]
  },
  {
   "cell_type": "code",
   "execution_count": 12,
   "metadata": {},
   "outputs": [
    {
     "data": {
      "text/plain": [
       "490"
      ]
     },
     "execution_count": 12,
     "metadata": {},
     "output_type": "execute_result"
    }
   ],
   "source": [
    "a1 = np.array(tweets_df['user_location'])\n",
    "len(a1)"
   ]
  },
  {
   "cell_type": "code",
   "execution_count": 13,
   "metadata": {},
   "outputs": [
    {
     "data": {
      "text/plain": [
       "array(['', ' Barcelona', ' Saudi Arabia', '#AFRICA #MENA',\n",
       "       \"'burbs near Vancouver, BC\", '(he/they)',\n",
       "       '1410 Lee St., Houston TX 77009', '1711 23rd Ave Tuscaloosa, AL ',\n",
       "       '201 West 13th St. NY, NY 10011', '25 Counties in GA & SC',\n",
       "       '617 usually at home ', '757', \"9 o'clock plaza & B\",\n",
       "       '@thegumbeauxpot', 'Aberdeen, Scotland',\n",
       "       'Account not monitored 24/7', 'Action in 59 countries', 'Africa',\n",
       "       'Africa ', 'Allentown, PA', 'American Canyon, CA', 'Amman',\n",
       "       'Anchorage, Alaska', 'Apache Junction, AZ', 'Atlanta, GA, USA',\n",
       "       'Austin, TX', 'Australia', 'Baltimore, MD', 'Bedford, TX',\n",
       "       'Berlin, Germany', 'Blue dot in Qtah ', 'Boston', 'Boston, MA',\n",
       "       'Bristol', 'Bristol, Cardiff', 'Bristol, England', 'Bristol, UK',\n",
       "       'British Columbia, Canada', 'Brooklyn, NY', 'Buffalo, NY',\n",
       "       'Bujumbura, Burundi', 'Calgary, Alberta', 'California, USA',\n",
       "       'Canada', 'Canmore, Alberta - Treaty 7', 'Canterbury, England',\n",
       "       'Cape Town | Gqeberha, ZA', 'Changsha', 'Chicago',\n",
       "       'Chicago, IL ✶✶✶✶', 'Clearwater, Fl.', 'Cleveland, OH',\n",
       "       'Colombo, Sri Lanka', 'Dallas, TX', 'Decatur, GA',\n",
       "       'Dept of Revenue', 'Dobieville 🇺🇸 ', 'Dubai ', 'Earth',\n",
       "       'East Brooklyn', 'Edmonton, Alberta, Canada',\n",
       "       'England, United Kingdom', 'Eskişehir, Türkiye', 'Evanston, IL',\n",
       "       'Evanston, Ill.', 'Everywhere.', 'Fifth spruce on the far left',\n",
       "       'Florida, USA', 'Georgia', 'Germany', 'Germiston, South Africa',\n",
       "       'Glasgow, Scotland', 'Global', 'Greater Washington DC',\n",
       "       'Gulf Coast', 'Guwahati', 'Halethorpe, MD',\n",
       "       'Halle (Saale), Germany', 'Hershey, PA', 'Hershey, PA ',\n",
       "       'Hillsboro, OR', 'Houston, TX', 'Huntersville, NC',\n",
       "       'In my very own atmosphere… ', 'India',\n",
       "       'India, Nepal & Sri Lanka ', 'Indianapolis, IN', 'Indore, India',\n",
       "       'Iowa, USA', 'Island of misfit buoys n gulls',\n",
       "       'Johannesburg North', 'Johannesburg, South Africa',\n",
       "       'Jönköping, Sverige', 'Karachi, Pakistan', 'Karlstad, Sverige',\n",
       "       'Kent', 'Kentuckian.', 'Kigali, Gasabo', 'Kolkata, India',\n",
       "       'La Prov', 'Lebanon', 'Leeds, England', 'Liberia',\n",
       "       'Liverpool, Merseyside, UK', 'Logan, UT', 'London',\n",
       "       'London, England', 'Louisville, KY', 'Lusaka, Zambia',\n",
       "       'Manchester, England', 'Manchester, UK', 'Marsabit, Kenya',\n",
       "       'Massachusetts', 'Melbourne, Victoria', 'Miami, FL',\n",
       "       'Middle-Earth ', 'Middlesbrough, UK', 'Montreal',\n",
       "       'Montréal, Canada', 'Mumbai', 'Mumbai , India', 'Mumbai, India',\n",
       "       'Nariman Point, Mumbai, India', 'Nashville, TN', 'Netherlands',\n",
       "       'Nevada City, Ca', 'New Delhi, India', 'New Jersey',\n",
       "       'New Orleans ', 'New York City', 'New York, NY', 'New York, USA',\n",
       "       'New Zealand', 'Newcastle ', 'Noida,India', 'Norge', 'Normal, IL',\n",
       "       'North America ', 'North East & Yorkshire', 'Northern California',\n",
       "       'Northern Ireland', 'Northern Ireland, UK 🇬🇧 ', 'Northwind',\n",
       "       'Not a Merry Land', 'Nyagatare', 'Oakland, CA', 'Ohio, USA',\n",
       "       'Oklahoma City, OK ', 'Omaha, Nebraska', 'Ontario, CA', 'Oregon',\n",
       "       'Oregon, USA', 'Outside the FEMA camp for now', 'PHL', 'Paisley',\n",
       "       'Pakistan', 'Papua New Guinea', 'Pawtucket, RI',\n",
       "       'Payómkawichum/Kumeyaay land', 'Philadelphia, PA',\n",
       "       'Philadelphia, Pennsylvania', 'Philadelphia,PA', 'Phoenix, AZ',\n",
       "       'Phoenix, AZ ', 'Pittsburgh, PA', 'Prague',\n",
       "       'Pretoria, South Africa', 'Providence, RI',\n",
       "       'Queensferry, Scotland', 'Raleigh, NC', 'Raymond Maine USA',\n",
       "       'Redditch, England', 'Renfrewshire', 'Riverside, CA',\n",
       "       'Rockville, Maryland, USA', 'Roseville, MN', 'Salt Lake City',\n",
       "       'Salt Lake City, UT', 'Salt Lake City, Utah', 'San Antonio, TX',\n",
       "       'San Bernardino, CA', 'San Gabriel Valley, CA',\n",
       "       'Scotkrainian🏴\\U000e0067\\U000e0062\\U000e0073\\U000e0063\\U000e0074\\U000e007f🇺🇦',\n",
       "       'Sheffield, UK', 'Silver Spring, MD', 'Sky',\n",
       "       'Snuneymuxw territory', 'Somewhere wrting my ❤️ out ',\n",
       "       'South Africa', 'Southern Africa', 'Southern California',\n",
       "       'Southwestern Michigan', 'Southwind', 'Sri Lanka', 'Sri Lanka 🇱🇰',\n",
       "       \"St. John's\", 'St. Louis', 'St. Louis, MO', 'State College, PA',\n",
       "       'Stockholm, Sverige 🇸🇪', 'Sydney, Australia',\n",
       "       'The Muscogee Nation', 'Tigray', 'Tk’emlúps ~Kamloops BC ',\n",
       "       'Toronto, Ontario', 'Treaty 7 land', 'UK', 'UK & International ',\n",
       "       'UK and Ireland ', 'USA', 'Uganda', 'United Kingdom',\n",
       "       'United States', 'Vancouver, Canada', 'Vidisha', 'Washington, DC',\n",
       "       'West Midlands/Sheffield ', 'Windham, ME', 'Worcester, MA, USA',\n",
       "       'World Citizen', 'Worldwide', \"YYC     That's in Canada eh ! \",\n",
       "       'York', 'York, England', 'all around the world ',\n",
       "       'arizona state university', 'betwixt and between places', 'dmv',\n",
       "       'earth 🌎', \"i'll be there in 5 mins\",\n",
       "       'iPhone: 40.808838,-96.637177', 'planetscape@pm.me',\n",
       "       'the Sunshine Coast Qld', 'they/s 18 pan 🍰 || (infp-a)',\n",
       "       'white he/they/xe 17', 'ትግራይ ዓደይ አለኩልኪ ብዓለይ ',\n",
       "       'ትግራይ ዓደይ ወርቂ ዓለመይ🌎💊👑♥🕊', 'ጽዮን ማርያም ኣደይ ሓደራኺ', 'エルサレム', '🇱🇧', '🇵🇰',\n",
       "       '🏳️\\u200d🌈'], dtype=object)"
      ]
     },
     "execution_count": 13,
     "metadata": {},
     "output_type": "execute_result"
    }
   ],
   "source": [
    "a2 = np.unique(np.array(tweets_df['user_location']))\n",
    "len(a2)\n",
    "a2"
   ]
  },
  {
   "cell_type": "code",
   "execution_count": 14,
   "metadata": {},
   "outputs": [],
   "source": [
    "tweets_df.to_csv('Food_Deserts_and_Insecurity.csv')"
   ]
  },
  {
   "cell_type": "code",
   "execution_count": null,
   "metadata": {},
   "outputs": [],
   "source": []
  }
 ],
 "metadata": {
  "kernelspec": {
   "display_name": "Python 3.10.2 64-bit",
   "language": "python",
   "name": "python3"
  },
  "language_info": {
   "codemirror_mode": {
    "name": "ipython",
    "version": 3
   },
   "file_extension": ".py",
   "mimetype": "text/x-python",
   "name": "python",
   "nbconvert_exporter": "python",
   "pygments_lexer": "ipython3",
   "version": "3.10.2"
  },
  "orig_nbformat": 4,
  "vscode": {
   "interpreter": {
    "hash": "aee8b7b246df8f9039afb4144a1f6fd8d2ca17a180786b69acc140d282b71a49"
   }
  }
 },
 "nbformat": 4,
 "nbformat_minor": 2
}
